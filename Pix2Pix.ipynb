{
 "cells": [
  {
   "cell_type": "code",
   "execution_count": null,
   "id": "97fe26b0",
   "metadata": {
    "lines_to_next_cell": 1
   },
   "outputs": [],
   "source": [
    "import tensorflow as tf\n",
    "import os\n",
    "import time\n",
    "import datetime\n",
    "\n",
    "from matplotlib import pyplot as plt\n",
    "from IPython import display\n",
    "import PIL\n",
    "import numpy as np"
   ]
  },
  {
   "cell_type": "code",
   "execution_count": null,
   "id": "102e5d6a",
   "metadata": {
    "lines_to_next_cell": 1
   },
   "outputs": [],
   "source": [
    "\n",
    "def load(image_file):\n",
    "    input_image = tf.io.read_file(\"dataset/skeletons/\" + image_file)\n",
    "    real_image = tf.io.read_file(\"dataset/animal/\" + image_file)\n",
    "    if image_file.endswith(\".jpg\"):\n",
    "        input_image = tf.image.decode_jpeg(input_image)\n",
    "        real_image = tf.image.decode_jpeg(real_image)\n",
    "    else:\n",
    "        input_image = tf.image.decode_png(input_image)\n",
    "        real_image = tf.image.decode_png(real_image)\n",
    "\n",
    "    input_image = tf.image.resize(input_image, (256, 256))\n",
    "    real_image = tf.image.resize(real_image, (256, 256))\n",
    "\n",
    "    input_image = tf.cast(input_image, tf.float32)\n",
    "    real_image = tf.cast(real_image, tf.float32)\n",
    "    \n",
    "    return input_image, real_image"
   ]
  },
  {
   "cell_type": "code",
   "execution_count": null,
   "id": "f65c36bb",
   "metadata": {},
   "outputs": [],
   "source": [
    "\n",
    "img, real = load(\"1.jpg\")\n",
    "plt.figure()\n",
    "plt.imshow(img/255.0)\n",
    "plt.show()"
   ]
  },
  {
   "cell_type": "code",
   "execution_count": null,
   "id": "c1e3dbfa",
   "metadata": {},
   "outputs": [],
   "source": [
    "plt.figure()\n",
    "plt.imshow(real/255.0)\n",
    "plt.show()"
   ]
  },
  {
   "cell_type": "code",
   "execution_count": null,
   "id": "192a19d9-9964-4e84-b149-10046742a19b",
   "metadata": {},
   "outputs": [],
   "source": []
  }
 ],
 "metadata": {
  "kernelspec": {
   "display_name": "Python 3 (ipykernel)",
   "language": "python",
   "name": "python3"
  },
  "language_info": {
   "codemirror_mode": {
    "name": "ipython",
    "version": 3
   },
   "file_extension": ".py",
   "mimetype": "text/x-python",
   "name": "python",
   "nbconvert_exporter": "python",
   "pygments_lexer": "ipython3",
   "version": "3.11.4"
  }
 },
 "nbformat": 4,
 "nbformat_minor": 5
}
